{
 "cells": [
  {
   "cell_type": "code",
   "execution_count": 1,
   "metadata": {},
   "outputs": [],
   "source": [
    "import pandas as pd"
   ]
  },
  {
   "cell_type": "code",
   "execution_count": 2,
   "metadata": {},
   "outputs": [],
   "source": [
    "prediction_bikes = pd.read_csv('/workspaces/BiciMad_4geeks_ML/data/graficos/prediction_bikes.csv' , sep=',')\n",
    "trips_bikes = pd.read_csv('/workspaces/BiciMad_4geeks_ML/data/graficos/trips_bikes.csv' , sep=',')\n",
    "prediction_minutes = pd.read_csv('/workspaces/BiciMad_4geeks_ML/data/graficos/prediction_minutes.csv' , sep=',')\n",
    "trips_minutes = pd.read_csv('/workspaces/BiciMad_4geeks_ML/data/graficos/trips_minutes.csv' , sep=',')\n",
    "prediction_distance = pd.read_csv('/workspaces/BiciMad_4geeks_ML/data/graficos/prediction_distance.csv' , sep=',')\n",
    "trips_distance = pd.read_csv('/workspaces/BiciMad_4geeks_ML/data/graficos/trips_distance.csv' , sep=',')"
   ]
  },
  {
   "cell_type": "code",
   "execution_count": null,
   "metadata": {},
   "outputs": [],
   "source": []
  }
 ],
 "metadata": {
  "kernelspec": {
   "display_name": "Python 3",
   "language": "python",
   "name": "python3"
  },
  "language_info": {
   "codemirror_mode": {
    "name": "ipython",
    "version": 3
   },
   "file_extension": ".py",
   "mimetype": "text/x-python",
   "name": "python",
   "nbconvert_exporter": "python",
   "pygments_lexer": "ipython3",
   "version": "3.11.4"
  }
 },
 "nbformat": 4,
 "nbformat_minor": 2
}
