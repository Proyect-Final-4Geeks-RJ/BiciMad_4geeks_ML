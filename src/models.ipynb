{
 "cells": [
  {
   "cell_type": "markdown",
   "metadata": {},
   "source": [
    "# Training Models"
   ]
  },
  {
   "cell_type": "markdown",
   "metadata": {},
   "source": [
    "### Hypothesis:"
   ]
  },
  {
   "cell_type": "markdown",
   "metadata": {},
   "source": [
    "1. Optimizador rutas --> Ruben"
   ]
  },
  {
   "cell_type": "code",
   "execution_count": null,
   "metadata": {
    "vscode": {
     "languageId": "plaintext"
    }
   },
   "outputs": [],
   "source": [
    "#Load Data\n",
    "\n",
    "data_trips_red_inferences = pd.read_csv(\"../data/processed/data_trips_red_inferences.csv\", sep=\",\")"
   ]
  },
  {
   "cell_type": "code",
   "execution_count": null,
   "metadata": {
    "vscode": {
     "languageId": "plaintext"
    }
   },
   "outputs": [],
   "source": [
    "#Factorization\n",
    "\n",
    "data_trips_red_inferences = data_trips_red_inferences.apply(lambda x: pd.factorize(x)[0])"
   ]
  },
  {
   "cell_type": "markdown",
   "metadata": {},
   "source": [
    "Creación de nuevo dataframe de apoyo para el cálculo de rutas (sobre el que va a trabajar el optimizador de rutas)."
   ]
  },
  {
   "cell_type": "code",
   "execution_count": null,
   "metadata": {
    "vscode": {
     "languageId": "plaintext"
    }
   },
   "outputs": [],
   "source": [
    "\n",
    "# Selecciona las columnas relevantes para las rutas\n",
    "columns_of_interest = [\n",
    "    'latitude_unlock', 'longitude_unlock',\n",
    "    'latitude_lock', 'longitude_lock',\n",
    "    'distance', 'station_unlock_count', 'station_lock_count',\n",
    "    'trip_speed', 'lock_unlock_time_gap_hours'\n",
    "]\n",
    "\n",
    "# Crea un nuevo DataFrame de rutas\n",
    "routes_df = data_trips_red_inferences[columns_of_interest].copy()"
   ]
  },
  {
   "cell_type": "code",
   "execution_count": null,
   "metadata": {
    "vscode": {
     "languageId": "plaintext"
    }
   },
   "outputs": [],
   "source": [
    "# Guarda el DataFrame en un archivo CSV\n",
    "routes_df.to_csv(\"rutas_dataset.csv\", index=False)"
   ]
  },
  {
   "cell_type": "code",
   "execution_count": null,
   "metadata": {
    "vscode": {
     "languageId": "plaintext"
    }
   },
   "outputs": [],
   "source": [
    "# Cargar el modelo de regresión utilizando pickle\n",
    "with open(\"../models/regression_model_linear.pkl\", \"rb\") as model_file:\n",
    "    linear_model = pickle.load(model_file)"
   ]
  },
  {
   "cell_type": "markdown",
   "metadata": {},
   "source": [
    "Método 1👉Vectorizador."
   ]
  },
  {
   "cell_type": "code",
   "execution_count": null,
   "metadata": {
    "vscode": {
     "languageId": "plaintext"
    }
   },
   "outputs": [],
   "source": [
    "# Realizar predicciones de duración del viaje para las nuevas rutas\n",
    "predicted_durations = linear_model.predict(routes_df)\n",
    "\n",
    "# Añadir las predicciones al DataFrame de rutas\n",
    "routes_df['predicted_duration'] = predicted_durations\n",
    "\n",
    "# Mostrar el DataFrame con las predicciones\n",
    "print(routes_df)\t"
   ]
  },
  {
   "cell_type": "markdown",
   "metadata": {},
   "source": [
    "En este bloque, el método predict de la biblioteca scikit-learn se aplica directamente a todo el DataFrame routes_df. Este método de aplicación directa de operaciones a matrices (o DataFrames) se conoce como operación vectorizada. La eficiencia radica en el hecho de que las operaciones vectorizadas se implementan internamente utilizando código altamente optimizado en lenguajes de bajo nivel como C o Fortran, lo que las hace mucho más rápidas que las operaciones de bucle tradicionales de Python."
   ]
  },
  {
   "cell_type": "markdown",
   "metadata": {},
   "source": [
    "Método 2 👉 Iterador"
   ]
  },
  {
   "cell_type": "code",
   "execution_count": null,
   "metadata": {
    "vscode": {
     "languageId": "plaintext"
    }
   },
   "outputs": [],
   "source": [
    " # Ya se ha cargado el modelo de regresión y tenemos routes_df con las predicciones\n",
    "\n",
    "def calcular_duracion_viaje(row):\n",
    "    # Esta función toma una fila del DataFrame y calcula la duración del viaje basándose en las predicciones del modelo\n",
    "    # Asegúrate de que las columnas usadas coincidan con las que se utilizaron durante el entrenamiento del modelo\n",
    "    features = row[['latitude_unlock', 'longitude_unlock', 'latitude_lock', 'longitude_lock',\n",
    "                    'distance', 'station_unlock_count', 'station_lock_count',\n",
    "                    'trip_speed', 'lock_unlock_time_gap_hours']]\n",
    "    \n",
    "    # Realiza la predicción de duración del viaje\n",
    "    predicted_duration = linear_model.predict([features])[0]\n",
    "    \n",
    "    return predicted_duration\n",
    "\n",
    "# Aplica la función calcular_duracion_viaje a cada fila del DataFrame\n",
    "routes_df['predicted_duration'] = routes_df.apply(calcular_duracion_viaje, axis=1)\n",
    "\n",
    "# Muestra el DataFrame con las predicciones actualizadas\n",
    "print(routes_df)"
   ]
  },
  {
   "cell_type": "markdown",
   "metadata": {},
   "source": [
    "En este bloque, la función calcular_duracion_viaje se aplica a cada fila del DataFrame utilizando apply con el argumento axis=1 para especificar que la aplicación se realiza a lo largo de las filas. Este enfoque es más iterativo y se ejecuta en un bucle implícito, donde cada fila del DataFrame se pasa individualmente a la función."
   ]
  },
  {
   "cell_type": "markdown",
   "metadata": {},
   "source": [
    "Comparación:\n",
    "\n",
    "Eficiencia:\n",
    "\n",
    "El primer bloque es más eficiente en términos de rendimiento debido a la vectorización. Las operaciones vectorizadas en NumPy y scikit-learn están altamente optimizadas y ejecutadas en código compilado, lo que las hace más rápidas.\n",
    "El segundo bloque es menos eficiente, ya que implica la iteración a través de las filas y la aplicación de la función a cada fila por separado, lo cual puede ser más lento.\n",
    "\n",
    "Flexibilidad:\n",
    "\n",
    "El segundo bloque puede proporcionar más flexibilidad porque puedes realizar operaciones más complejas en cada fila antes de hacer la predicción. Puedes realizar cualquier lógica específica requerida para tus datos antes de aplicar la predicción.\n",
    "El primer bloque es más directo y puede ser más adecuado cuando las operaciones en cada fila son simples y no requieren lógica adicional."
   ]
  },
  {
   "cell_type": "markdown",
   "metadata": {},
   "source": [
    "2. Predicción de demanda por estaciones --> Ruben"
   ]
  },
  {
   "cell_type": "markdown",
   "metadata": {},
   "source": [
    "3. Gamificación --> Juan\n",
    "    *  3.1 Consumo de calorías\n",
    "    *  3.2 Contribución a la huella de carbono\n",
    "    *  3.3 Optimizador rutas"
   ]
  },
  {
   "cell_type": "markdown",
   "metadata": {},
   "source": []
  }
 ],
 "metadata": {
  "language_info": {
   "name": "python"
  }
 },
 "nbformat": 4,
 "nbformat_minor": 2
}
